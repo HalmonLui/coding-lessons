{
 "cells": [
  {
   "cell_type": "code",
   "execution_count": null,
   "metadata": {},
   "outputs": [],
   "source": [
    "# Developer: Halmon Lui\n",
    "# 1st Implementation: Queue using a Linked List with a tail pointer\n",
    "# 2nd Implementation: Queue using a fixed-size array\n",
    "\n",
    "# Define FIFO data structure with helpers\n",
    "class Queue:\n",
    "    def __init__(self, head=None, tail=None):\n",
    "        self.head = head\n",
    "        self.tail = tail\n",
    "    \n",
    "    # Adds value at position at tail\n",
    "    def enqueue(self, value):\n",
    "        pass\n",
    "    \n",
    "    # Returns value and removes from front\n",
    "    def dequeue(self):\n",
    "        pass\n",
    "    \n",
    "    # Returns true if queue is empty\n",
    "    def empty(self):\n",
    "        return self.head == None\n",
    "    \n",
    "# Defines the Node class which stores data and points to next node\n",
    "class Node:\n",
    "    def __init__(self, data=None, next=None):\n",
    "        self.data = data\n",
    "        self.next = next"
   ]
  }
 ],
 "metadata": {
  "kernelspec": {
   "display_name": "Python 3",
   "language": "python",
   "name": "python3"
  },
  "language_info": {
   "codemirror_mode": {
    "name": "ipython",
    "version": 3
   },
   "file_extension": ".py",
   "mimetype": "text/x-python",
   "name": "python",
   "nbconvert_exporter": "python",
   "pygments_lexer": "ipython3",
   "version": "3.7.0"
  }
 },
 "nbformat": 4,
 "nbformat_minor": 2
}
