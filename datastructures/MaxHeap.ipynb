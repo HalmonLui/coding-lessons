{
 "cells": [
  {
   "cell_type": "code",
   "execution_count": 1,
   "metadata": {},
   "outputs": [],
   "source": [
    "# Developer: Halmon Lui\n",
    "# Implement a Max Heap\n",
    "\n",
    "# Max Heap\n",
    "class Heap:\n",
    "    def __init__(self):\n",
    "        self.arr = []\n",
    "    \n",
    "    # Insert value into heap\n",
    "    def insert(self, value):\n",
    "        pass\n",
    "    \n",
    "    # Sift value up through heap\n",
    "    def sift_up(self, value):\n",
    "        pass\n",
    "    \n",
    "    # Return max item without removing it\n",
    "    def get_max(self):\n",
    "        # If we have an element return the first one since we are a max heap\n",
    "        if len(self.arr) > 0:\n",
    "            return self.arr[0]\n",
    "        return 'Error: empty heap'\n",
    "    \n",
    "    # Return number of elements stored\n",
    "    def get_size(self):\n",
    "        pass\n",
    "    \n",
    "    # Return True if heap contains no elements\n",
    "    def is_empty(self):\n",
    "        # True if array is empty\n",
    "        return len(self.arr) == 0\n",
    "    \n",
    "    # Returns max item and removes it\n",
    "    def extract_max(self):\n",
    "        pass\n",
    "    \n",
    "    # Sifts value down, needed for extract_max\n",
    "    def sift_down(self, value):\n",
    "        pass\n",
    "    \n",
    "    # Remove item at index x\n",
    "    def remove(self, i):\n",
    "        pass\n",
    "    \n",
    "    # Create heap from array of elements. Needed for heap_sort\n",
    "    def heapify(self):\n",
    "        pass\n",
    "    \n",
    "    # Take unsorted array and turn into sorted array in-place\n",
    "    def heap_sort(self, array):\n",
    "        pass\n"
   ]
  },
  {
   "cell_type": "code",
   "execution_count": 3,
   "metadata": {},
   "outputs": [
    {
     "name": "stdout",
     "output_type": "stream",
     "text": [
      "get_max Error: empty heap\n",
      "is_empty True\n"
     ]
    }
   ],
   "source": [
    "# Test the Max Heap and its methods\n",
    "h = Heap()\n",
    "\n",
    "\n",
    "# Test get_max\n",
    "print('get_max', h.get_max())\n",
    "\n",
    "# Test get_size\n",
    "\n",
    "# Test is_empty\n",
    "print('is_empty', h.is_empty())"
   ]
  }
 ],
 "metadata": {
  "kernelspec": {
   "display_name": "Python 3",
   "language": "python",
   "name": "python3"
  },
  "language_info": {
   "codemirror_mode": {
    "name": "ipython",
    "version": 3
   },
   "file_extension": ".py",
   "mimetype": "text/x-python",
   "name": "python",
   "nbconvert_exporter": "python",
   "pygments_lexer": "ipython3",
   "version": "3.7.0"
  }
 },
 "nbformat": 4,
 "nbformat_minor": 2
}
