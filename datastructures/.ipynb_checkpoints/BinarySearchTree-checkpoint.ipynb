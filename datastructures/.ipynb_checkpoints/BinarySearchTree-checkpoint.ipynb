{
 "cells": [
  {
   "cell_type": "code",
   "execution_count": 7,
   "metadata": {},
   "outputs": [],
   "source": [
    "# Developer: Halmon Lui\n",
    "# Implement a Binary Search Tree with helper methods\n",
    "\n",
    "# Binary Search Tree\n",
    "class BST:\n",
    "    def __init__(self):\n",
    "        self.root=None\n",
    "    \n",
    "    # Insert into tree\n",
    "    def insert(self, value):\n",
    "        if not self.root:\n",
    "            self.root = Node(value)\n",
    "        else:\n",
    "            pass\n",
    "    \n",
    "    # Get total number of nodes in tree (BFS for practice)\n",
    "    def get_node_count(self):\n",
    "        pass\n",
    "    \n",
    "    # Print values of tree from min to max (Inorder DFS)\n",
    "    def print_values(self):\n",
    "        pass\n",
    "    \n",
    "    # Deletes the entire tree\n",
    "    def delete_tree(self):\n",
    "        pass\n",
    "    \n",
    "    # Checks if value exists in tree\n",
    "    def is_in_tree(self, value):\n",
    "        pass\n",
    "    \n",
    "    # Returns height of tree, single node == 1\n",
    "    def get_height(self):\n",
    "        pass\n",
    "    \n",
    "    # Returns min value of tree\n",
    "    def get_min(self):\n",
    "        if self.root:\n",
    "            current = self.root\n",
    "            while current.left:\n",
    "                current = current.left\n",
    "            return current.data\n",
    "        else:\n",
    "            return 'Error: no tree available'\n",
    "                \n",
    "    # Returns max value of tree\n",
    "    def get_max(self):\n",
    "        if self.root:\n",
    "            current = self.root\n",
    "            while current.right:\n",
    "                current = current.right\n",
    "            return current.data\n",
    "        else:\n",
    "            return 'Error: no tree available'\n",
    "    \n",
    "    # Returns whether tree is a valid BST\n",
    "    def is_binary_search_tree(self):\n",
    "        pass\n",
    "    \n",
    "    # Deletes value from tree\n",
    "    def delete_value(self, value):\n",
    "        pass\n",
    "    \n",
    "    # Gets next highest value in tree after given value, -1 if none\n",
    "    def get_successor(self, value):\n",
    "        pass\n",
    "\n",
    "# Nodes for the BST\n",
    "class Node:\n",
    "    def __init__(self, data, left=None, right=None):\n",
    "        self.data = data\n",
    "        self.left = left\n",
    "        self.right = right\n"
   ]
  },
  {
   "cell_type": "code",
   "execution_count": 10,
   "metadata": {},
   "outputs": [
    {
     "name": "stdout",
     "output_type": "stream",
     "text": [
      "Inserting 10 into tree\n",
      "Min of tree:  10\n",
      "Max of tree:  10\n"
     ]
    }
   ],
   "source": [
    "# Test the BST and helper methods\n",
    "bst = BST()\n",
    "\n",
    "print('Inserting 10 into tree')\n",
    "bst.insert(10)\n",
    "\n",
    "print('Min of tree: ', bst.get_min())\n",
    "print('Max of tree: ', bst.get_max())"
   ]
  }
 ],
 "metadata": {
  "kernelspec": {
   "display_name": "Python 3",
   "language": "python",
   "name": "python3"
  },
  "language_info": {
   "codemirror_mode": {
    "name": "ipython",
    "version": 3
   },
   "file_extension": ".py",
   "mimetype": "text/x-python",
   "name": "python",
   "nbconvert_exporter": "python",
   "pygments_lexer": "ipython3",
   "version": "3.7.0"
  }
 },
 "nbformat": 4,
 "nbformat_minor": 2
}
