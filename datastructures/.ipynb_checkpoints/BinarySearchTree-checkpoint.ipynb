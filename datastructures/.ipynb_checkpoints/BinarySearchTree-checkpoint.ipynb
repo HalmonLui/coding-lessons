{
 "cells": [
  {
   "cell_type": "code",
   "execution_count": 1,
   "metadata": {},
   "outputs": [],
   "source": [
    "# Developer: Halmon Lui\n",
    "# Implement a Binary Search Tree with helper methods\n",
    "\n",
    "class BST:\n",
    "    def __init__(self):\n",
    "        pass\n",
    "    \n",
    "    # Insert into tree\n",
    "    def insert(self, value):\n",
    "        pass\n",
    "    \n",
    "    # Get total number of nodes in tree\n",
    "    def get_node_count(self):\n",
    "        pass\n",
    "    \n",
    "    # Print values of tree from min to max (Inorder DFS)\n",
    "    def print_values(self):\n",
    "        pass\n",
    "    \n",
    "    # Deletes the entire tree\n",
    "    def delete_tree(self):\n",
    "        pass\n",
    "    \n",
    "    # Checks if value exists in tree\n",
    "    def is_in_tree(self, value):\n",
    "        pass\n",
    "    \n",
    "    # Returns height of tree, single node == 1\n",
    "    def get_height(self):\n",
    "        pass\n",
    "    \n",
    "    # Returns min value of tree\n",
    "    def get_min(self):\n",
    "        pass\n",
    "    \n",
    "    # Returns max value of tree\n",
    "    def get_max(self):\n",
    "        pass\n",
    "    \n",
    "    # Returns whether tree is a valid BST\n",
    "    def is_binary_search_tree(self):\n",
    "        pass\n",
    "    \n",
    "    # Deletes value from tree\n",
    "    def delete_value(self, value):\n",
    "        pass\n",
    "    \n",
    "    # Gets next highest value in tree after given value, -1 if none\n",
    "    def get_successor(self, value):\n",
    "        pass\n"
   ]
  },
  {
   "cell_type": "code",
   "execution_count": null,
   "metadata": {},
   "outputs": [],
   "source": [
    "# Test the BST and helper methods\n"
   ]
  }
 ],
 "metadata": {
  "kernelspec": {
   "display_name": "Python 3",
   "language": "python",
   "name": "python3"
  },
  "language_info": {
   "codemirror_mode": {
    "name": "ipython",
    "version": 3
   },
   "file_extension": ".py",
   "mimetype": "text/x-python",
   "name": "python",
   "nbconvert_exporter": "python",
   "pygments_lexer": "ipython3",
   "version": "3.7.0"
  }
 },
 "nbformat": 4,
 "nbformat_minor": 2
}
