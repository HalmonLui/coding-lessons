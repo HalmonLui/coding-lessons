{
 "cells": [
  {
   "cell_type": "code",
   "execution_count": 22,
   "metadata": {},
   "outputs": [],
   "source": [
    "# Define the List class which points to head and size\n",
    "class SLinkedList:\n",
    "    def __init__(self):\n",
    "        self.head = None\n",
    "\n",
    "    # Returns size of the linked list\n",
    "    def size(self):\n",
    "        count = 0\n",
    "        if self.head:\n",
    "            count = 1\n",
    "            temp = self.head\n",
    "            while temp.next:\n",
    "                count += 1\n",
    "                temp = temp.next\n",
    "        return count\n",
    "\n",
    "    # Returns True if linked list is empty\n",
    "    def empty(self):\n",
    "        if self.head:\n",
    "            return False\n",
    "        else:\n",
    "            return True\n",
    "\n",
    "# Defines the Node class which stores data and points to next node\n",
    "class Node:\n",
    "    def __init__(self, data=None):\n",
    "        self.data = data\n",
    "        self.next = None\n"
   ]
  },
  {
   "cell_type": "code",
   "execution_count": 23,
   "metadata": {},
   "outputs": [],
   "source": [
    "# Create the linked list\n",
    "linkboi = SLinkedList()\n",
    "linkboi.head = Node('hello')\n",
    "linkboi.head.next = Node('world')\n",
    "linkboi.head.next.next = Node('!')"
   ]
  },
  {
   "cell_type": "code",
   "execution_count": 9,
   "metadata": {},
   "outputs": [
    {
     "name": "stdout",
     "output_type": "stream",
     "text": [
      "!\n"
     ]
    }
   ],
   "source": [
    "# Confirm we can get the data and traverse the nodes\n",
    "print(linkboi.head.next.next.data)"
   ]
  },
  {
   "cell_type": "code",
   "execution_count": 27,
   "metadata": {},
   "outputs": [
    {
     "name": "stdout",
     "output_type": "stream",
     "text": [
      "Size of linked list: 3\n",
      "Is Linked List Empty?: False\n"
     ]
    }
   ],
   "source": [
    "print('Size of linked list: ' + str(linkboi.size()))\n",
    "print('Is Linked List Empty?: ' + str(linkboi.empty()))"
   ]
  }
 ],
 "metadata": {
  "kernelspec": {
   "display_name": "Python 3",
   "language": "python",
   "name": "python3"
  },
  "language_info": {
   "codemirror_mode": {
    "name": "ipython",
    "version": 3
   },
   "file_extension": ".py",
   "mimetype": "text/x-python",
   "name": "python",
   "nbconvert_exporter": "python",
   "pygments_lexer": "ipython3",
   "version": "3.7.0"
  }
 },
 "nbformat": 4,
 "nbformat_minor": 2
}
