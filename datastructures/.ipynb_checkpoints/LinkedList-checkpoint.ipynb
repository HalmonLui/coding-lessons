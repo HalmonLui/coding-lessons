{
 "cells": [
  {
   "cell_type": "code",
   "execution_count": 44,
   "metadata": {},
   "outputs": [],
   "source": [
    "# Define the List class which points to head and size\n",
    "class SLinkedList:\n",
    "    def __init__(self):\n",
    "        self.head = None\n",
    "\n",
    "    # Returns size of the linked list\n",
    "    def size(self):\n",
    "        count = 0\n",
    "        if self.head:\n",
    "            count = 1\n",
    "            temp = self.head\n",
    "            while temp.next:\n",
    "                count += 1\n",
    "                temp = temp.next\n",
    "        return count\n",
    "\n",
    "    # Returns True if linked list is empty\n",
    "    def empty(self):\n",
    "        if self.head:\n",
    "            return False\n",
    "        else:\n",
    "            return True\n",
    "        \n",
    "    # Returns value at nth node\n",
    "    def value_at(self, n):\n",
    "        count = 0\n",
    "        temp = self.head\n",
    "        while temp:\n",
    "            if count == n:\n",
    "                return temp.data\n",
    "            count += 1\n",
    "            temp = temp.next\n",
    "        return None\n",
    "    \n",
    "    # Adds item to front of the list\n",
    "    def push_front(self, data):\n",
    "        new_node = Node(data, self.head)\n",
    "        self.head = new_node\n",
    "    \n",
    "    # Remove item from front of list and return value\n",
    "    def pop_front(self):\n",
    "        removed_node = self.head\n",
    "        \n",
    "        if self.head:\n",
    "            self.head = self.head.next\n",
    "        else:\n",
    "            self.head = None\n",
    "        \n",
    "        return removed_node.data\n",
    "    \n",
    "    # Adds item to back of the list\n",
    "    def push_back(self, data):\n",
    "        new_node = Node(data)\n",
    "        current = self.head\n",
    "        while current.next != None:\n",
    "            current = current.next\n",
    "        current.next = new_node\n",
    "            \n",
    "    # Removes item from back of list and returns value\n",
    "    def pop_back(self):\n",
    "        current = self.head\n",
    "        removed_node = None\n",
    "        if not current:\n",
    "            return None\n",
    "        if current.next == None:\n",
    "            removed_node = current\n",
    "            self.head = None\n",
    "            return removed_node.data\n",
    "        while current.next:\n",
    "            if current.next.next == None:\n",
    "                removed_node = current.next\n",
    "                current.next = None\n",
    "                return removed_node.data\n",
    "            current = current.next\n",
    "            \n",
    "    # Get value of front item\n",
    "    def front(self):\n",
    "        if self.head:\n",
    "            return self.head.data\n",
    "        else:\n",
    "            return None\n",
    "    \n",
    "    # Get value of back item\n",
    "    def back(self):\n",
    "        current = self.head\n",
    "        while current:\n",
    "            if current.next == None:\n",
    "                return current.data\n",
    "            current = current.next\n",
    "\n",
    "# Defines the Node class which stores data and points to next node\n",
    "class Node:\n",
    "    def __init__(self, data=None, next=None):\n",
    "        self.data = data\n",
    "        self.next = next\n"
   ]
  },
  {
   "cell_type": "code",
   "execution_count": 45,
   "metadata": {},
   "outputs": [],
   "source": [
    "# Create the linked list\n",
    "linkboi = SLinkedList()\n",
    "linkboi.head = Node('hello')\n",
    "linkboi.head.next = Node('world')\n",
    "linkboi.head.next.next = Node('!')"
   ]
  },
  {
   "cell_type": "code",
   "execution_count": 9,
   "metadata": {},
   "outputs": [
    {
     "name": "stdout",
     "output_type": "stream",
     "text": [
      "!\n"
     ]
    }
   ],
   "source": [
    "# Confirm we can get the data and traverse the nodes\n",
    "print(linkboi.head.next.next.data)"
   ]
  },
  {
   "cell_type": "code",
   "execution_count": 46,
   "metadata": {},
   "outputs": [
    {
     "name": "stdout",
     "output_type": "stream",
     "text": [
      "Size of linked list: 3\n",
      "Is linked list Empty?: False\n",
      "Value at node 3 is: !\n",
      "Value at node 99 is: None\n",
      "Pushed front of node: FRONT\n",
      "Popping front of node: FRONT\n",
      "Pushed back of node: BACK\n",
      "Popping back of node: BACK\n"
     ]
    }
   ],
   "source": [
    "print('Size of linked list: ' + str(linkboi.size()))\n",
    "print('Is linked list Empty?: ' + str(linkboi.empty()))\n",
    "print('Value at node 3 is: ' + str(linkboi.value_at(2)))\n",
    "print('Value at node 99 is: ' + str(linkboi.value_at(98)))\n",
    "\n",
    "linkboi.push_front('FRONT')\n",
    "print('Pushed front of node: ' + linkboi.front())\n",
    "print('Popping front of node: ' + linkboi.pop_front())\n",
    "\n",
    "linkboi.push_back('BACK')\n",
    "print('Pushed back of node: ' + linkboi.back())\n",
    "print('Popping back of node: ' + linkboi.pop_back())\n"
   ]
  }
 ],
 "metadata": {
  "kernelspec": {
   "display_name": "Python 3",
   "language": "python",
   "name": "python3"
  },
  "language_info": {
   "codemirror_mode": {
    "name": "ipython",
    "version": 3
   },
   "file_extension": ".py",
   "mimetype": "text/x-python",
   "name": "python",
   "nbconvert_exporter": "python",
   "pygments_lexer": "ipython3",
   "version": "3.7.0"
  }
 },
 "nbformat": 4,
 "nbformat_minor": 2
}
