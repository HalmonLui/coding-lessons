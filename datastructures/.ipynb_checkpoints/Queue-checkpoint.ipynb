{
 "cells": [
  {
   "cell_type": "code",
   "execution_count": 9,
   "metadata": {},
   "outputs": [],
   "source": [
    "# Developer: Halmon Lui\n",
    "# 1st Implementation: Queue using a Linked List with a tail pointer\n",
    "# 2nd Implementation: Queue using a fixed-size array\n",
    "\n",
    "# Define FIFO data structure with helpers\n",
    "class Queue:\n",
    "    def __init__(self, head=None, tail=None):\n",
    "        self.head = head\n",
    "        self.tail = tail\n",
    "    \n",
    "    # Adds value at position at tail\n",
    "    def enqueue(self, value):\n",
    "        temp = self.head\n",
    "        new_node = Node(value)\n",
    "        # If queue was empty, point head and tail at the new node\n",
    "        if not temp:\n",
    "            self.head = new_node\n",
    "            self.tail = new_node\n",
    "        while temp:\n",
    "            if temp.next == None:\n",
    "                temp.next = new_node\n",
    "                self.tail = new_node\n",
    "                return\n",
    "            temp = temp.next\n",
    "    \n",
    "    # Returns value and removes from front\n",
    "    def dequeue(self):\n",
    "        if self.head:\n",
    "            value = self.head.data\n",
    "            self.head = self.head.next\n",
    "            return value\n",
    "        return None\n",
    "\n",
    "    # Returns true if queue is empty\n",
    "    def empty(self):\n",
    "        return self.head == None\n",
    "    \n",
    "# Defines the Node class which stores data and points to next node\n",
    "class Node:\n",
    "    def __init__(self, data=None, next=None):\n",
    "        self.data = data\n",
    "        self.next = next\n"
   ]
  },
  {
   "cell_type": "code",
   "execution_count": 10,
   "metadata": {},
   "outputs": [
    {
     "name": "stdout",
     "output_type": "stream",
     "text": [
      "Created an empty queue:  <__main__.Queue object at 0x000002509C3D1940>\n",
      "Test if empty:  True\n",
      "Enqueued one item:  Covid19\n",
      "Enqueued one item:  Covid20\n",
      "Test if empty:  False\n",
      "Dequeued an item:  Covid19\n",
      "Test if empty:  False\n",
      "Dequeued an item:  Covid20\n",
      "Test if empty:  True\n"
     ]
    }
   ],
   "source": [
    "# Test the Queue methods\n",
    "\n",
    "# Create queue and check if empty\n",
    "q = Queue()\n",
    "print('Created an empty queue: ', str(q))\n",
    "print('Test if empty: ', str(q.empty()))\n",
    "\n",
    "# Enqueue a few items and check if empty\n",
    "q.enqueue('Covid19')\n",
    "print('Enqueued one item: ', str(q.tail.data))\n",
    "q.enqueue('Covid20')\n",
    "print('Enqueued one item: ', str(q.tail.data))\n",
    "print('Test if empty: ', str(q.empty()))\n",
    "\n",
    "# Dequeue item and check if empty\n",
    "print('Dequeued an item: ', q.dequeue())\n",
    "print('Test if empty: ', str(q.empty()))\n",
    "print('Dequeued an item: ', q.dequeue())\n",
    "print('Test if empty: ', str(q.empty()))"
   ]
  }
 ],
 "metadata": {
  "kernelspec": {
   "display_name": "Python 3",
   "language": "python",
   "name": "python3"
  },
  "language_info": {
   "codemirror_mode": {
    "name": "ipython",
    "version": 3
   },
   "file_extension": ".py",
   "mimetype": "text/x-python",
   "name": "python",
   "nbconvert_exporter": "python",
   "pygments_lexer": "ipython3",
   "version": "3.7.0"
  }
 },
 "nbformat": 4,
 "nbformat_minor": 2
}
