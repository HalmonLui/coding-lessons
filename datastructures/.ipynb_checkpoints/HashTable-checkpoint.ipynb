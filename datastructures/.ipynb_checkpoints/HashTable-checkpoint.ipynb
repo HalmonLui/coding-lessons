{
 "cells": [
  {
   "cell_type": "code",
   "execution_count": 5,
   "metadata": {},
   "outputs": [
    {
     "name": "stdout",
     "output_type": "stream",
     "text": [
      "hello\n"
     ]
    }
   ],
   "source": [
    "# Developer: Halmon Lui\n",
    "# Implement a Hash Table using Linear Probing from scratch\n",
    "\n",
    "class HashTable:\n",
    "    def __init__(self):\n",
    "        self.table = []\n",
    "        \n",
    "    # hash key where m is size of table\n",
    "    def hash(self, k, m):\n",
    "        pass\n",
    "    \n",
    "    # if key exists, update value\n",
    "    def add(self, key, value):\n",
    "        pass\n",
    "    \n",
    "    # check if key exists\n",
    "    def exists(self, key):\n",
    "        pass\n",
    "    \n",
    "    # get value from key\n",
    "    def get(self, key):\n",
    "        pass\n",
    "    \n",
    "    # remove value at key\n",
    "    def remove(self, key):\n",
    "        pass\n"
   ]
  },
  {
   "cell_type": "code",
   "execution_count": null,
   "metadata": {},
   "outputs": [],
   "source": []
  }
 ],
 "metadata": {
  "kernelspec": {
   "display_name": "Python 3",
   "language": "python",
   "name": "python3"
  },
  "language_info": {
   "codemirror_mode": {
    "name": "ipython",
    "version": 3
   },
   "file_extension": ".py",
   "mimetype": "text/x-python",
   "name": "python",
   "nbconvert_exporter": "python",
   "pygments_lexer": "ipython3",
   "version": "3.7.0"
  }
 },
 "nbformat": 4,
 "nbformat_minor": 2
}
