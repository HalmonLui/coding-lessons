{
 "cells": [
  {
   "cell_type": "code",
   "execution_count": 70,
   "metadata": {},
   "outputs": [],
   "source": [
    "# Developer: Halmon Lui\n",
    "\n",
    "# Check if number is even\n",
    "def is_even(num):\n",
    "    binary = num\n",
    "    return bool(~binary & 1)\n",
    "\n",
    "# Count the number of bits different between two numbers\n",
    "def bits_diff(num1, num2):\n",
    "    xored = num1 ^ num2\n",
    "    count = 0\n",
    "    for i in range(len(bin(xored)) - 2):\n",
    "        if bin(xored)[-1] == '1':\n",
    "            count += 1\n",
    "        xored = xored >> 1\n",
    "    return count"
   ]
  },
  {
   "cell_type": "code",
   "execution_count": 20,
   "metadata": {},
   "outputs": [
    {
     "name": "stdout",
     "output_type": "stream",
     "text": [
      "1 False\n",
      "2 True\n",
      "100 True\n",
      "7839127389 False\n"
     ]
    }
   ],
   "source": [
    "# Test is_even()\n",
    "\n",
    "print('1', is_even(1))\n",
    "print('2', is_even(2))\n",
    "print('100', is_even(100))\n",
    "print('7839127389', is_even(7839127389))"
   ]
  },
  {
   "cell_type": "code",
   "execution_count": 77,
   "metadata": {},
   "outputs": [
    {
     "name": "stdout",
     "output_type": "stream",
     "text": [
      "4 diff:  4\n",
      "0 diff:  0\n",
      "3 diff:  3\n"
     ]
    }
   ],
   "source": [
    "# Test number of bits different between two numbers\n",
    "print('4 diff: ', bits_diff(0b0110, 0b1001))\n",
    "print('0 diff: ', bits_diff(0b0100, 0b100))\n",
    "print('3 diff: ', bits_diff(0b111000101, 0b101100111))"
   ]
  }
 ],
 "metadata": {
  "kernelspec": {
   "display_name": "Python 3",
   "language": "python",
   "name": "python3"
  },
  "language_info": {
   "codemirror_mode": {
    "name": "ipython",
    "version": 3
   },
   "file_extension": ".py",
   "mimetype": "text/x-python",
   "name": "python",
   "nbconvert_exporter": "python",
   "pygments_lexer": "ipython3",
   "version": "3.7.0"
  }
 },
 "nbformat": 4,
 "nbformat_minor": 2
}
