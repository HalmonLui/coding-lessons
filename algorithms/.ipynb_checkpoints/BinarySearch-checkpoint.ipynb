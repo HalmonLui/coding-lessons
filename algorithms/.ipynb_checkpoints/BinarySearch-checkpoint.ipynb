{
 "cells": [
  {
   "cell_type": "code",
   "execution_count": 28,
   "metadata": {},
   "outputs": [],
   "source": [
    "# Developer: Halmon Lui\n",
    "# Implementation 1: Binary Search for a sorted array of integers\n",
    "# Implementation 2: Binary Search using recursion\n",
    "\n",
    "### Implementation 1: ###\n",
    "import math\n",
    "\n",
    "def binary_search(sorted_arr, num):\n",
    "    \"\"\"\n",
    "    num is what we are searching for\n",
    "    sorted_arr is where we are searching\n",
    "    \"\"\"\n",
    "    \n",
    "    min = 0\n",
    "    max = len(sorted_arr) - 1\n",
    "    iteration_counter = 0\n",
    "    \n",
    "    # The probes can never cross each other\n",
    "    while min <= max:\n",
    "        iteration_counter += 1\n",
    "        middle = math.floor((min + max) / 2)\n",
    "        guess = sorted_arr[middle]\n",
    "        if guess == num:\n",
    "            return 'Found after ' + str(iteration_counter) + ' iterations!'\n",
    "        elif num > guess:\n",
    "            min = middle + 1\n",
    "        elif num < guess:\n",
    "            max = middle - 1\n",
    "        else:\n",
    "            print('We should never be here')\n",
    "            return\n",
    "    \n",
    "    return'Could not find number after ' + str(iteration_counter) + ' iterations!'\n",
    "            \n",
    "            \n",
    "### Implementation 2: ###\n",
    "def recursive_binary_search(sorted_arr, num, min=None, max=None):\n",
    "    if min==None and max==None:\n",
    "        return recursive_binary_search(sorted_arr, num, min=0, max=len(sorted_arr)-1)\n",
    "    if max >= min:\n",
    "        middle = math.floor((max + min)/2)\n",
    "        if sorted_arr[middle] == num:\n",
    "            return middle\n",
    "        elif sorted_arr[middle] > num:\n",
    "            return recursive_binary_search(sorted_arr, num, min, middle-1)\n",
    "        elif sorted_arr[middle] < num:\n",
    "            return recursive_binary_search(sorted_arr, num, middle+1, max)\n",
    "        else:\n",
    "            print('shouldnt be here')\n",
    "            return 'error'\n",
    "    else:\n",
    "        return 'Could not find number'"
   ]
  },
  {
   "cell_type": "code",
   "execution_count": 2,
   "metadata": {},
   "outputs": [
    {
     "name": "stdout",
     "output_type": "stream",
     "text": [
      "Could not find number after 4 iterations!\n",
      "Found after 2 iterations!\n",
      "Found after 3 iterations!\n",
      "Found after 3 iterations!\n",
      "Found after 4 iterations!\n",
      "Could not find number after 4 iterations!\n",
      "Could not find number after 4 iterations!\n",
      "Could not find number after 0 iterations!\n",
      "Found after 1 iterations!\n",
      "Could not find number after 1 iterations!\n"
     ]
    }
   ],
   "source": [
    "# Test Implementation 1 with some edge cases\n",
    "test_arr = [0, 1, 2, 3, 4, 5, 6, 7, 8, 9]\n",
    "\n",
    "print(binary_search(test_arr, 10))\n",
    "print(binary_search(test_arr, 1))\n",
    "print(binary_search(test_arr, 8))\n",
    "print(binary_search(test_arr, 0))\n",
    "print(binary_search(test_arr, 9))\n",
    "print(binary_search(test_arr, 99))\n",
    "print(binary_search(test_arr, 10.5))\n",
    "print(binary_search([], 10))\n",
    "print(binary_search([1], 1))\n",
    "print(binary_search([1], 10))"
   ]
  },
  {
   "cell_type": "code",
   "execution_count": 29,
   "metadata": {},
   "outputs": [
    {
     "name": "stdout",
     "output_type": "stream",
     "text": [
      "1\n",
      "0\n",
      "8\n",
      "7\n",
      "Could not find number\n",
      "Could not find number\n"
     ]
    }
   ],
   "source": [
    "# Test Implementation 2 with some edge cases\n",
    "test_arr = [0, 2, 4, 6, 8, 20, 55, 200, 12378192378192]\n",
    "\n",
    "print(recursive_binary_search(test_arr, 2))\n",
    "print(recursive_binary_search(test_arr, 0))\n",
    "print(recursive_binary_search(test_arr, 12378192378192))\n",
    "print(recursive_binary_search(test_arr, 200))\n",
    "print(recursive_binary_search(test_arr, 999999999999999999))\n",
    "print(recursive_binary_search(test_arr, -10))"
   ]
  },
  {
   "cell_type": "code",
   "execution_count": null,
   "metadata": {},
   "outputs": [],
   "source": []
  }
 ],
 "metadata": {
  "kernelspec": {
   "display_name": "Python 3",
   "language": "python",
   "name": "python3"
  },
  "language_info": {
   "codemirror_mode": {
    "name": "ipython",
    "version": 3
   },
   "file_extension": ".py",
   "mimetype": "text/x-python",
   "name": "python",
   "nbconvert_exporter": "python",
   "pygments_lexer": "ipython3",
   "version": "3.7.0"
  }
 },
 "nbformat": 4,
 "nbformat_minor": 2
}
